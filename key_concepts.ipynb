{
 "cells": [
  {
   "cell_type": "markdown",
   "metadata": {},
   "source": [
    "# Key Concepts"
   ]
  },
  {
   "cell_type": "markdown",
   "metadata": {},
   "source": [
    "## Jax 배열 (`jax.Array`)"
   ]
  },
  {
   "cell_type": "markdown",
   "metadata": {},
   "source": [
    "`jax.Array`는 jax의 기본 배열입니다. `numpy.ndarray`와 거의 유사하지만, 몇가지 중요한 차이점이 있습니다."
   ]
  },
  {
   "cell_type": "markdown",
   "metadata": {},
   "source": [
    "### 배열 생성"
   ]
  },
  {
   "cell_type": "markdown",
   "metadata": {},
   "source": [
    "비록 `jax.Array`는 jax의 기본 배열이지만, 실제 사용할 때는 `jax.Array` 를 직접 호출하는 대신 jax의 API 함수인 `jax.numpy` 호출해서 사용하게 됩니다. `jax.numpy` 는 `jax.numpy.zeros()`, `jax.numpy.linspace()`, `jax.numpy.arange()` 와 같이 NumPy 스타일의 배열생성 함수를 제공합니다."
   ]
  },
  {
   "cell_type": "code",
   "execution_count": 2,
   "metadata": {},
   "outputs": [
    {
     "data": {
      "text/plain": [
       "True"
      ]
     },
     "execution_count": 2,
     "metadata": {},
     "output_type": "execute_result"
    }
   ],
   "source": [
    "import jax\n",
    "import jax.numpy as jnp\n",
    "\n",
    "x = jnp.arange(5)\n",
    "isinstance(x, jax.Array)"
   ]
  },
  {
   "cell_type": "markdown",
   "metadata": {},
   "source": [
    "파이썬 어노테이션을 사용할 때는 `jax.Array`를 사용하시면 됩니다:"
   ]
  },
  {
   "cell_type": "code",
   "execution_count": 5,
   "metadata": {},
   "outputs": [
    {
     "data": {
      "text/plain": [
       "Array([ 0,  1,  4,  9, 16], dtype=int32)"
      ]
     },
     "execution_count": 5,
     "metadata": {},
     "output_type": "execute_result"
    }
   ],
   "source": [
    "# 공식 도큐먼트에는 없는 코드입니다.\n",
    "@jax.jit\n",
    "def apply_matrix(x: jax.Array) -> jax.Array:\n",
    "    return x ** 2\n",
    "\n",
    "apply_matrix(jnp.arange(5))"
   ]
  },
  {
   "cell_type": "markdown",
   "metadata": {},
   "source": [
    "### devices와 sharding"
   ]
  },
  {
   "cell_type": "markdown",
   "metadata": {},
   "source": [
    "Jax 배열이 가지고 있는 속성인 `devices` 는 배열을 어떤 연산 장치에 할당되어 있는지를 나타냅니다. 간단히 말해, gpu를 쓸건지 cpu를 쓸건지를 말합니다. 기본적으로 cpu에 할당되어 있을 겁니다."
   ]
  },
  {
   "cell_type": "code",
   "execution_count": 6,
   "metadata": {},
   "outputs": [
    {
     "data": {
      "text/plain": [
       "{CpuDevice(id=0)}"
      ]
     },
     "execution_count": 6,
     "metadata": {},
     "output_type": "execute_result"
    }
   ],
   "source": [
    "x.devices()"
   ]
  },
  {
   "cell_type": "markdown",
   "metadata": {},
   "source": [
    "일반적으로 jax 배열은 여러개의 장치에 샤딩되어 있습니다. 샤딩이란 DB에서 나온 용어이며, 여기서는 여러 장치에 복사되어 있다는 의미로 쓰였습니다. `sharding` 속성을 통해 샤딩 상태를 확인하실 수 있습니다."
   ]
  },
  {
   "cell_type": "code",
   "execution_count": 8,
   "metadata": {},
   "outputs": [
    {
     "data": {
      "text/plain": [
       "SingleDeviceSharding(device=CpuDevice(id=0))"
      ]
     },
     "execution_count": 8,
     "metadata": {},
     "output_type": "execute_result"
    }
   ],
   "source": [
    "x.sharding"
   ]
  },
  {
   "cell_type": "markdown",
   "metadata": {},
   "source": [
    "비록 예제에서는 single device 에만 저장되어 있지만, 일반적으로 jax 배열은 여러 연산 장치 뿐만 아니라 여러 호스트(컴퓨터)에도 샤딩될 수 있습니다."
   ]
  },
  {
   "cell_type": "markdown",
   "metadata": {},
   "source": [
    "### 변환함수(Transformations)"
   ]
  },
  {
   "cell_type": "markdown",
   "metadata": {},
   "source": [
    "다음은 변환함수 중 일부입니다:\n",
    "- `jax.jit()`: 함수를 컴파일합니다.\n",
    "- `jax.vmap()`: 함수를 벡터화합니다.\n",
    "- `jax.grad()`: 함수의 도함수를 구합니다."
   ]
  },
  {
   "cell_type": "markdown",
   "metadata": {},
   "source": [
    "변환함수는 함수를 인자로 받아 변한된 함수를 리턴합니다. 예로 `jax.jit()`를 사용하여 제곱 함수를 컴파일해 보겠습니다:"
   ]
  },
  {
   "cell_type": "code",
   "execution_count": 9,
   "metadata": {},
   "outputs": [
    {
     "name": "stdout",
     "output_type": "stream",
     "text": [
      "4.0\n"
     ]
    }
   ],
   "source": [
    "def square(x):\n",
    "    return jnp.pow(x, 2)\n",
    "\n",
    "square_jit = jax.jit(square)\n",
    "print(square_jit(2.0))"
   ]
  },
  {
   "cell_type": "markdown",
   "metadata": {},
   "source": [
    "아래와 같이 파이썬 데코레이터를 사용할 수도 있습니다:"
   ]
  },
  {
   "cell_type": "code",
   "execution_count": 10,
   "metadata": {},
   "outputs": [],
   "source": [
    "@jax.jit\n",
    "def square(x):\n",
    "    return jnp.pow(x, 2)"
   ]
  },
  {
   "cell_type": "markdown",
   "metadata": {},
   "source": [
    "### 트레이싱(Tracing)"
   ]
  },
  {
   "cell_type": "code",
   "execution_count": 23,
   "metadata": {},
   "outputs": [
    {
     "name": "stdout",
     "output_type": "stream",
     "text": [
      "Traced<ShapedArray(int32[5])>with<DynamicJaxprTrace(level=1/0)>\n"
     ]
    }
   ],
   "source": [
    "@jax.jit\n",
    "def f(x):\n",
    "  print(x)\n",
    "  return x + 1\n",
    "\n",
    "x = jnp.arange(5)\n",
    "result = f(x)"
   ]
  }
 ],
 "metadata": {
  "kernelspec": {
   "display_name": "learning-jax",
   "language": "python",
   "name": "python3"
  },
  "language_info": {
   "codemirror_mode": {
    "name": "ipython",
    "version": 3
   },
   "file_extension": ".py",
   "mimetype": "text/x-python",
   "name": "python",
   "nbconvert_exporter": "python",
   "pygments_lexer": "ipython3",
   "version": "3.11.9"
  }
 },
 "nbformat": 4,
 "nbformat_minor": 2
}
