{
 "cells": [
  {
   "cell_type": "markdown",
   "metadata": {},
   "source": [
    "# 난수 생성"
   ]
  },
  {
   "cell_type": "markdown",
   "metadata": {},
   "source": [
    "해당 절에서는 `jax.random`과 유사난수(pseudo random number generation, PRNG)에 대해 알아보겠습니다."
   ]
  },
  {
   "cell_type": "markdown",
   "metadata": {},
   "source": [
    "컴퓨터는 순수한 난수를 생성할 수 없습니다. 때문에 컴퓨터로 하여금 난수를 생성하게끔 하기 위해서 **유사난수** 라는 방법이 생겨났습니다. 순수한 난수는 아니지만, 사람이 사용하는 데에는 충분히 불확실성을 보여주는 것을 목표로 합니다."
   ]
  },
  {
   "cell_type": "markdown",
   "metadata": {},
   "source": [
    "유사난수는 초기값에 기반하여 난수를 생성하게 되고, 이 초기값을 `seed`라고 합니다. 이후로 줄줄이 나오게 되는 난수들은, 이전에 난수를 생성할  때 같이 생성된 어떠한 상태(`state`)에 기반하여 생성된 값입니다. 즉, 이전 상태가 같으면 같은 난수를 생성하게 됩니다."
   ]
  },
  {
   "cell_type": "markdown",
   "metadata": {},
   "source": [
    "난수 생성은 현대 머신러닝에 필수적인 존재입니다. JAX는 최대한 많은 부분을 numpy와 호환되도록 설계하고자 노력했지만, 난수 생성은 numpy와 전혀 다른 메커니즘을 가진 몇없는 기능 중 하나 입니다. JAX 개발자들이 굳이 난수 부분을 numpy 와 다르게 만든 데에는 numpy의 난수 생성이 현대 머신러닝에 맞지 않는 부분이 있기 때문이라고 유추할 수 있습니다."
   ]
  },
  {
   "cell_type": "markdown",
   "metadata": {},
   "source": [
    "NumPy와 JAX의 난수생성의 차이점을 더 잘 이해하기 위해서 먼저 NumPy가 난수를 어떻게 생성하는지부터 살펴보겠습니다."
   ]
  },
  {
   "cell_type": "markdown",
   "metadata": {},
   "source": [
    "## NumPy의 난수 생성"
   ]
  },
  {
   "cell_type": "markdown",
   "metadata": {},
   "source": [
    "NumPy에서는 `numpy.random` 함수를 통해 유사난수를 생성할 수 있습니다. NumPy는 전역변수 `state`에 기반하여 유사난수를 생성하고, 이 `state`는 `numpy.random.seed` 함수를 통해 설정됩니다."
   ]
  },
  {
   "cell_type": "code",
   "execution_count": 1,
   "metadata": {},
   "outputs": [],
   "source": [
    "import numpy as np\n",
    "np.random.seed(0)"
   ]
  },
  {
   "cell_type": "markdown",
   "metadata": {},
   "source": [
    "아래 코드와 같이 `seed`를 통해 결정된 `state`를 확인할 수 있습니다:"
   ]
  },
  {
   "cell_type": "code",
   "execution_count": 2,
   "metadata": {},
   "outputs": [
    {
     "name": "stdout",
     "output_type": "stream",
     "text": [
      "('MT19937', array([         0,          1, 1812433255, 1900727105, 1208447044,\n",
      "       2481403966, 4042607538,  337614300, 3232553940, 1018809052,\n",
      "       3202401494, 1775180719, 3192392114,  594215549,  184016991,\n",
      "        829906058,  610491522, 3879932251, 3139825610,  297902587,\n",
      "       4075895579, 2943625357, 3530655617, 1423771745, 2135928312,\n",
      "       2891506774, 1066338622,  135451537,  933040465, 2759011858,\n",
      "       2273819758, 3545703099, 2516396728, 127 ...\n"
     ]
    }
   ],
   "source": [
    "def print_truncated_random_state():\n",
    "  \"\"\"To avoid spamming the outputs, print only part of the state.\"\"\"\n",
    "  full_random_state = np.random.get_state()\n",
    "  print(str(full_random_state)[:460], '...')\n",
    "\n",
    "print_truncated_random_state()"
   ]
  },
  {
   "cell_type": "markdown",
   "metadata": {},
   "source": [
    "`state`는 난수를 생성할 때마다 업데이트됩니다:"
   ]
  },
  {
   "cell_type": "code",
   "execution_count": 3,
   "metadata": {},
   "outputs": [
    {
     "name": "stdout",
     "output_type": "stream",
     "text": [
      "('MT19937', array([         0,          1, 1812433255, 1900727105, 1208447044,\n",
      "       2481403966, 4042607538,  337614300, 3232553940, 1018809052,\n",
      "       3202401494, 1775180719, 3192392114,  594215549,  184016991,\n",
      "        829906058,  610491522, 3879932251, 3139825610,  297902587,\n",
      "       4075895579, 2943625357, 3530655617, 1423771745, 2135928312,\n",
      "       2891506774, 1066338622,  135451537,  933040465, 2759011858,\n",
      "       2273819758, 3545703099, 2516396728, 127 ...\n"
     ]
    }
   ],
   "source": [
    "np.random.seed(0)\n",
    "print_truncated_random_state()"
   ]
  },
  {
   "cell_type": "code",
   "execution_count": 4,
   "metadata": {},
   "outputs": [
    {
     "name": "stdout",
     "output_type": "stream",
     "text": [
      "('MT19937', array([2443250962, 1093594115, 1878467924, 2709361018, 1101979660,\n",
      "       3904844661,  676747479, 2085143622, 1056793272, 3812477442,\n",
      "       2168787041,  275552121, 2696932952, 3432054210, 1657102335,\n",
      "       3518946594,  962584079, 1051271004, 3806145045, 1414436097,\n",
      "       2032348584, 1661738718, 1116708477, 2562755208, 3176189976,\n",
      "        696824676, 2399811678, 3992505346,  569184356, 2626558620,\n",
      "        136797809, 4273176064,  296167901, 343 ...\n"
     ]
    }
   ],
   "source": [
    "_ = np.random.uniform()\n",
    "print_truncated_random_state()"
   ]
  },
  {
   "cell_type": "markdown",
   "metadata": {},
   "source": [
    "NumPy를 통해서 스칼라 값과 배열 모두 난수를 생성할 수 있습니다. 3의 길이를 가진 정규분포에 따른 난수를 다음과 같이 생성할 수 있습니다:"
   ]
  },
  {
   "cell_type": "code",
   "execution_count": 5,
   "metadata": {},
   "outputs": [
    {
     "name": "stdout",
     "output_type": "stream",
     "text": [
      "[0.5488135  0.71518937 0.60276338]\n"
     ]
    }
   ],
   "source": [
    "np.random.seed(0)\n",
    "print(np.random.uniform(size=3))"
   ]
  },
  {
   "cell_type": "markdown",
   "metadata": {},
   "source": [
    "NumPy는 *sequential equivalent guarantee*라는 것을 제공하는데, 이는 같은 `seed`를 가진다면 스칼라 난수를을 따로 3번을 생성하던, 배열로 3개의 난수를 동시에 생성하던 같은 값을 생성한다는 것을 말합니다:"
   ]
  },
  {
   "cell_type": "code",
   "execution_count": 6,
   "metadata": {},
   "outputs": [
    {
     "name": "stdout",
     "output_type": "stream",
     "text": [
      "individually: [0.5488135  0.71518937 0.60276338]\n",
      "all at once:  [0.5488135  0.71518937 0.60276338]\n"
     ]
    }
   ],
   "source": [
    "np.random.seed(0)\n",
    "print(\"individually:\", np.stack([np.random.uniform() for _ in range(3)]))\n",
    "\n",
    "np.random.seed(0)\n",
    "print(\"all at once: \", np.random.uniform(size=3))"
   ]
  },
  {
   "cell_type": "markdown",
   "metadata": {},
   "source": [
    "## JAX의 난수 생성"
   ]
  }
 ],
 "metadata": {
  "kernelspec": {
   "display_name": "jax",
   "language": "python",
   "name": "python3"
  },
  "language_info": {
   "codemirror_mode": {
    "name": "ipython",
    "version": 3
   },
   "file_extension": ".py",
   "mimetype": "text/x-python",
   "name": "python",
   "nbconvert_exporter": "python",
   "pygments_lexer": "ipython3",
   "version": "3.11.9"
  }
 },
 "nbformat": 4,
 "nbformat_minor": 2
}
