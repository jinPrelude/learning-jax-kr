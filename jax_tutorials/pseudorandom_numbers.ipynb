{
 "cells": [
  {
   "cell_type": "markdown",
   "metadata": {},
   "source": [
    "# 난수 생성"
   ]
  },
  {
   "cell_type": "markdown",
   "metadata": {},
   "source": [
    "해당 절에서는 `jax.random`과 유사난수(pseudo random number generation, PRNG)에 대해 알아보겠습니다."
   ]
  },
  {
   "cell_type": "markdown",
   "metadata": {},
   "source": [
    "컴퓨터는 순수한 난수를 생성할 수 없습니다. 때문에 컴퓨터로 하여금 난수를 생성하게끔 하기 위해서 **유사난수** 라는 방법이 생겨났습니다. 순수한 난수는 아니지만, 사람이 사용하는 데에는 충분히 불확실성을 보여주는 것을 목표로 합니다."
   ]
  },
  {
   "cell_type": "markdown",
   "metadata": {},
   "source": [
    "유사난수는 초기값에 기반하여 난수를 생성하게 되고, 이 초기값을 `seed`라고 합니다. 이후로 줄줄이 나오게 되는 난수들은, 이전에 난수를 생성할  때 같이 생성된 어떠한 상태(`state`)에 기반하여 생성된 값입니다. 즉, 이전 상태가 같으면 같은 난수를 생성하게 됩니다."
   ]
  },
  {
   "cell_type": "markdown",
   "metadata": {},
   "source": [
    "난수 생성은 현대 머신러닝에 필수적인 존재입니다. JAX는 최대한 많은 부분을 numpy와 호환되도록 설계하고자 노력했지만, 난수는 몇없는 예외 중 하나 입니다."
   ]
  }
 ],
 "metadata": {
  "language_info": {
   "name": "python"
  }
 },
 "nbformat": 4,
 "nbformat_minor": 2
}
